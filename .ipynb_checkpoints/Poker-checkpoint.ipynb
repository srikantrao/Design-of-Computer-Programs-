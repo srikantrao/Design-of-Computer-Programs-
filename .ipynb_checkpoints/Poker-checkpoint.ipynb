{
 "cells": [
  {
   "cell_type": "markdown",
   "metadata": {},
   "source": [
    "### Poker Program based on Peter Norvig's Lesson \n",
    "\n",
    "This program takes a list of hands, and returns the best hand. The below image lists all different hand ranks possible. \n",
    "\n",
    "![Hand Rank](images/poker-hand-rankings.png)"
   ]
  },
  {
   "cell_type": "code",
   "execution_count": 6,
   "metadata": {
    "collapsed": false
   },
   "outputs": [
    {
     "name": "stdout",
     "output_type": "stream",
     "text": [
      "9\n",
      "-20\n"
     ]
    }
   ],
   "source": [
    "#Understanding the max function in a little more depth \n",
    "\n",
    "# max can take a function as argument and return the highest value after applying that function \n",
    "\n",
    "print(max([3,5,7,9,-20]))\n",
    "\n",
    "print(max([3,5,7,9,-20], key=abs))"
   ]
  },
  {
   "cell_type": "code",
   "execution_count": 8,
   "metadata": {
    "collapsed": false
   },
   "outputs": [],
   "source": [
    "def card_ranks(hand):\n",
    "    \"Return a list of the ranks, sorted with higher first.\"\n",
    "    ranks = ['--23456789TJQKA'.index(r) for r, s in hand]\n",
    "    ranks.sort(reverse = True)\n",
    "    # Check for ace low straight \n",
    "    if ranks == [14, 5, 4, 3, 2]:\n",
    "        ranks = [5, 4, 3, 2, 1]\n",
    "    return ranks\n",
    "\n",
    "def flush(hand):\n",
    "    \"Return True if all the cards have the same suit.\"\n",
    "    suits = [s for r,s in hand]\n",
    "    suits = set(suits)\n",
    "    return len(suits) ==1\n",
    "    \n",
    "def straight(ranks):\n",
    "    \"Return True if the ordered ranks form a 5-card straight.\"\n",
    "    if max(ranks) - min(ranks) == 4 and len(set(ranks))==5:\n",
    "            return True\n",
    "    else:\n",
    "        return False\n",
    "\n",
    "def kind(n, ranks):\n",
    "    \"\"\"Return the first rank that this hand has exactly n of.\"\"\"\n",
    "    if n > 4: \n",
    "        print(\"Cannot have more than 4 of a kind\")\n",
    "        return None \n",
    "    else:\n",
    "        for rank in ranks:\n",
    "            if ranks.count(rank) == n:\n",
    "                return rank\n",
    "        return None\n",
    "    \n",
    "def two_pair(ranks):\n",
    "    \"\"\"If there are two pair, return the two ranks as a\n",
    "    tuple: (highest, lowest); otherwise return None.\"\"\"\n",
    "    flag = 0 \n",
    "    highpair = None\n",
    "    lowpair = None\n",
    "    for r in ranks:\n",
    "        # Find the highpair\n",
    "        if ranks.count(r) == 2 and flag==0:\n",
    "            highpair = r\n",
    "            flag +=1\n",
    "        # Find the second pair\n",
    "        elif ranks.count(r) == 2 and r!=highpair and flag ==1:\n",
    "            lowpair = r\n",
    "            return (highpair, lowpair)\n",
    "    return None"
   ]
  },
  {
   "cell_type": "code",
   "execution_count": 9,
   "metadata": {
    "collapsed": true
   },
   "outputs": [],
   "source": [
    "def hand_rank(hand):\n",
    "    \"\"\"Return a value indicating the ranking of a hand\"\"\"\n",
    "    \n",
    "    ranks = card_ranks(hand)\n",
    "    \n",
    "    # Check if the hand is a straight flush\n",
    "    if straight(ranks) and flush(hand):\n",
    "        return (8, max(ranks))  # 2 3 4 5 6 -> (8, 6), # K Q J T 9 -> (8, 13)\n",
    "    \n",
    "    # Check if the hand is a 4 of a kind\n",
    "    elif kind(4, ranks):\n",
    "        return (7, kind(4, ranks), kind(1, ranks)) # 9 9 9 9 3 -> (7, 9, 3), 4 4 4 4 8 -> (7, 4, 8)\n",
    "    \n",
    "    # Check if the hand is a full house \n",
    "    elif kind(3, ranks) and kind(2, ranks):\n",
    "        return (6, kind(3, ranks), kind(2, ranks))  # J J J 7 7 -> (6, 11, 7)\n",
    "    \n",
    "    # Check if the hand is a flush\n",
    "    elif flush(hand):\n",
    "        return (5, ranks)\n",
    "    \n",
    "    # Check if the hand is a straight\n",
    "    elif straight(ranks):\n",
    "        return (4, max(ranks))\n",
    "    \n",
    "    # Check if the hand is a 3 of a kind \n",
    "    elif kind(3, ranks):\n",
    "        return (3, kind(3, ranks), ranks)\n",
    "    \n",
    "    # Check if the hand is a two pair\n",
    "    elif two_pair(ranks):\n",
    "        return (2, two_pair(ranks), kind(1,ranks))\n",
    "    \n",
    "    # Check if the hand is a pair\n",
    "    elif kind(2, ranks):\n",
    "        return (1, kind(2, ranks), ranks )\n",
    "    \n",
    "    # If you have got nothing!\n",
    "    else:\n",
    "        return (0, ranks)\n",
    "    \n",
    "def allmax(iterable, key=None):\n",
    "    \"Return a list of all items equal to the max of the iterable.\"\n",
    "    key = key or (lambda x: x)\n",
    "    maximum = max(iterable,key=key)\n",
    "    item_list = []\n",
    "    for i in iterable:\n",
    "        if key(i) == key(maximum):\n",
    "            item_list.append(i)\n",
    "    return item_list \n",
    "\n",
    "def poker(hands):\n",
    "    \"\"\"Return the list of winning hand.\n",
    "    @param: hands - List of hands\n",
    "    @return: Returns the hand with the highest rank\"\"\"\n",
    "    return allmax(hands,key=hand_rank)\n",
    "\n",
    "\n",
    " "
   ]
  },
  {
   "cell_type": "markdown",
   "metadata": {},
   "source": [
    "### Function to Deal Hands "
   ]
  },
  {
   "cell_type": "code",
   "execution_count": 10,
   "metadata": {
    "collapsed": false
   },
   "outputs": [],
   "source": [
    "import random\n",
    "\n",
    "# Build the Deck\n",
    "\n",
    "mydeck = [r+s for r in '23456789TJQK' for s in 'SHDC']\n",
    "\n",
    "## Function shuffle taken from random.py \n",
    "\n",
    "def shuffle_test(self, x, random=None):\n",
    "        \"\"\"Shuffle list x in place, and return None.\n",
    "\n",
    "        Optional argument random is a 0-argument function returning a\n",
    "        random float in [0.0, 1.0); if it is the default None, the\n",
    "        standard random.random will be used.\n",
    "\n",
    "        \"\"\"\n",
    "\n",
    "        if random is None:\n",
    "            randbelow = self._randbelow\n",
    "            for i in reversed(range(1, len(x))):\n",
    "                # pick an element in x[:i+1] with which to exchange x[i]\n",
    "                j = randbelow(i+1)\n",
    "                x[i], x[j] = x[j], x[i]\n",
    "        else:\n",
    "            _int = int\n",
    "            for i in reversed(range(1, len(x))):\n",
    "                # pick an element in x[:i+1] with which to exchange x[i]\n",
    "                j = _int(random() * (i+1))\n",
    "                x[i], x[j] = x[j], x[i]\n",
    "\n",
    "def deal(numhands, n=5, deck=[r+s for r in '23456789TJQK' for s in 'SHDC']):\n",
    "    \"\"\"Return a list of hands given by numhands. Each hand has n cards.\"\"\"\n",
    "    random.shuffle(deck)\n",
    "    return [deck[n*i:n*(i+1)] for i in range(numhands)]\n"
   ]
  },
  {
   "cell_type": "code",
   "execution_count": 11,
   "metadata": {
    "collapsed": false
   },
   "outputs": [
    {
     "name": "stdout",
     "output_type": "stream",
     "text": [
      "All tests pass ...\n"
     ]
    }
   ],
   "source": [
    "## Testing \n",
    "\n",
    "def test():\n",
    "    \"Test cases for the functions in poker program\"\n",
    "    sf = \"6C 7C 8C 9C TC\".split() # => ['6C', '7C', '8C', '9C', 'TC']\n",
    "    fk = \"9D 9H 9S 9C 7D\".split() \n",
    "    fh = \"TD TC TH 7C 7D\".split()\n",
    "    tp = \"5S 5D 9H 9C 6S\".split() # Two pairs\n",
    "    \n",
    "    assert poker([sf, fk, fh]) == [sf]\n",
    "    assert poker([fk, fh]) == [fk]\n",
    "    \n",
    "    # Check that returns a winner when all cards are the same \n",
    "    assert poker([fh, fh]) == [fh, fh]\n",
    "    \n",
    "    ## Checking for Extreme Values \n",
    "    # Check that this works for 1 hand \n",
    "    assert poker([fh])== [fh]\n",
    "    # Check that this works for 100 hands \n",
    "    assert poker([sf] + 99 * [fh]) == [sf]\n",
    "    \n",
    "    ## Make sure the ranks returned are correct\n",
    "    assert hand_rank(sf) == (8,10)\n",
    "    assert hand_rank(fk) == (7,9,7)\n",
    "    assert hand_rank(fh) == (6,10,7)\n",
    "    \n",
    "    # Add tests for card_ranks \n",
    "    assert card_ranks(sf) == [10, 9, 8, 7, 6]\n",
    "    assert card_ranks(fk) == [9, 9, 9, 9, 7]\n",
    "    assert card_ranks(fh) == [10, 10, 10, 7, 7]\n",
    "    \n",
    "    # Add tests for kind \n",
    "    fkranks = card_ranks(fk)\n",
    "    tpranks = card_ranks(tp)\n",
    "    assert kind(4, fkranks) == 9\n",
    "    assert kind(3, fkranks) == None\n",
    "    assert kind(2, fkranks) == None\n",
    "    assert kind(1, fkranks) == 7\n",
    "    assert len(deal(10)) == 10\n",
    "    return \"All tests pass ...\"\n",
    "    \n",
    "print(test())"
   ]
  },
  {
   "cell_type": "markdown",
   "metadata": {},
   "source": [
    "### Hand Frequencies\n",
    "\n",
    "![](images/hand_frequencies.png)"
   ]
  },
  {
   "cell_type": "code",
   "execution_count": 34,
   "metadata": {
    "collapsed": true
   },
   "outputs": [],
   "source": [
    "# Write a program to calculate hand frequencies\n",
    "\n",
    "hand_names = ['Straight Flush', 'Four of a Kind', 'Full House', 'Flush', 'Straight', 'Three of a Kind',\n",
    "              'Two Pair', 'One Pair', 'High Card']\n",
    "\n",
    "def hand_percentages(n=700000):\n",
    "    \"Sample n random hands and print a table of percentages for each type of hand \"\n",
    "    counts = [0]*9\n",
    "    for i in range(n):\n",
    "        # Select the best hand out of 10 dealt hands\n",
    "        for hand in deal(10,5):\n",
    "            ranking = hand_rank(hand)[0]\n",
    "            counts[ranking] +=1\n",
    "    for i in range(9):\n",
    "        print(\"{0} has a probability of {1:6.4f}%\".format(hand_names[i], (10.0 * counts[8-i]/n) ))\n",
    "\n",
    "        "
   ]
  },
  {
   "cell_type": "code",
   "execution_count": 35,
   "metadata": {
    "collapsed": false
   },
   "outputs": [
    {
     "name": "stdout",
     "output_type": "stream",
     "text": [
      "Straight Flush has a probability of 0.0018%\n",
      "Four of a Kind has a probability of 0.0272%\n",
      "Full House has a probability of 0.1665%\n",
      "Flush has a probability of 0.6765%\n",
      "Straight has a probability of 0.4277%\n",
      "Three of a Kind has a probability of 2.2477%\n",
      "Two Pair has a probability of 4.9923%\n",
      "One Pair has a probability of 41.7730%\n",
      "High Card has a probability of 49.6872%\n"
     ]
    }
   ],
   "source": [
    "hand_percentages(700000)"
   ]
  },
  {
   "cell_type": "code",
   "execution_count": null,
   "metadata": {
    "collapsed": false
   },
   "outputs": [],
   "source": []
  },
  {
   "cell_type": "code",
   "execution_count": null,
   "metadata": {
    "collapsed": true
   },
   "outputs": [],
   "source": []
  }
 ],
 "metadata": {
  "anaconda-cloud": {},
  "kernelspec": {
   "display_name": "Python [conda env:tf_gpu]",
   "language": "python",
   "name": "conda-env-tf_gpu-py"
  },
  "language_info": {
   "codemirror_mode": {
    "name": "ipython",
    "version": 3
   },
   "file_extension": ".py",
   "mimetype": "text/x-python",
   "name": "python",
   "nbconvert_exporter": "python",
   "pygments_lexer": "ipython3",
   "version": "3.5.4"
  }
 },
 "nbformat": 4,
 "nbformat_minor": 1
}
