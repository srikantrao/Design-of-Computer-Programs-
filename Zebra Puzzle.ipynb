{
 "cells": [
  {
   "cell_type": "markdown",
   "metadata": {},
   "source": [
    "### The Zebra Puzzle ( taken from Wikipedia)\n",
    "\n",
    "1. There are five houses.\n",
    "2. The Englishman lives in the red house.\n",
    "3. The Spaniard owns the dog.\n",
    "4. Coffee is drunk in the green house.\n",
    "5. The Ukrainian drinks tea.\n",
    "6. The green house is immediately to the right of the ivory house.\n",
    "7. The Old Gold smoker owns snails.\n",
    "8. Kools are smoked in the yellow house.\n",
    "9. Milk is drunk in the middle house.\n",
    "10. The Norwegian lives in the first house.\n",
    "11. The man who smokes Chesterfields lives in the house next to the man with the fox.\n",
    "12. Kools are smoked in the house next to the house where the horse is kept.\n",
    "13. The Lucky Strike smoker drinks orange juice.\n",
    "14. The Japanese smokes Parliaments.\n",
    "15. The Norwegian lives next to the blue house.\n",
    "\n",
    "Now, who drinks water? Who owns the zebra?\n",
    "\n",
    "In the interest of clarity, it must be added that each of the five houses is painted a different color, and their inhabitants are of different national extractions, own different pets, drink different beverages and smoke different brands of American cigarets [sic]. One other thing: in statement 6, right means your right."
   ]
  },
  {
   "cell_type": "code",
   "execution_count": 21,
   "metadata": {
    "collapsed": false
   },
   "outputs": [],
   "source": [
    "# Writing up a permutation function recursively\n",
    "\n",
    "def all_perms(elements):\n",
    "    if len(elements) <=1:\n",
    "        yield elements\n",
    "    else:\n",
    "        for perm in all_perms(elements[1:]):\n",
    "            for i in range(len(elements)):\n",
    "                # nb elements[0:1] works in both string and list contexts\n",
    "                yield perm[:i] + elements[0:1] + perm[i:]\n",
    "                \n",
    "test = [1, 2, 3,4 ]"
   ]
  },
  {
   "cell_type": "code",
   "execution_count": 22,
   "metadata": {
    "collapsed": false
   },
   "outputs": [
    {
     "name": "stdout",
     "output_type": "stream",
     "text": [
      "zebra_puzzle got (1, 5) with    25 iters over    2775 items\n"
     ]
    }
   ],
   "source": [
    "# Will use itertools.permutations\n",
    "\n",
    "import itertools\n",
    "\n",
    "\n",
    "\n",
    "\n",
    "\n",
    "def imright(h1, h2):\n",
    "    \"\"\"Return true is h1 is immediately to the right of h2\"\"\"\n",
    "    return h1 - h2 == 1\n",
    "\n",
    "def nextto(h1, h2):\n",
    "    \"\"\"Return true is h1 is next to h2 \"\"\"\n",
    "    return abs(h1 - h2 ) == 1\n",
    "\n",
    "# Generator function to keep track of how many starts and counts there were \n",
    "def c(sequence):\n",
    "    \"\"\"Generates items in sequence: keeping counts as we go. c.start is the number of sequences started;\n",
    "    c.items is the number of items generated\"\"\"\n",
    "    c.starts +=1\n",
    "    for item in sequence:\n",
    "        c.items +=1\n",
    "        yield item\n",
    "\n",
    "# Try each ordering and see if it satisfies all the constraints \n",
    "def zebra_puzzle():\n",
    "    \"Return a tuple (WATER, ZEBRA indicating their house numbers.\"\n",
    "    houses = first, _, middle, _, _ = [1, 2, 3, 4, 5]\n",
    "    orderings = list(itertools.permutations(houses)) # 1\n",
    "    return next((WATER, ZEBRA)\n",
    "                for (red, green, ivory, yellow, blue) in c(orderings)\n",
    "                if imright(green, ivory)\n",
    "                for (Englishman, Spaniard, Ukranian, Japanese, Norwegian) in c(orderings)\n",
    "                if Englishman is red\n",
    "                if Norwegian is first\n",
    "                if nextto(Norwegian, blue)\n",
    "                for (coffee, tea, milk, oj, WATER) in c(orderings)\n",
    "                if coffee is green\n",
    "                if Ukranian is tea\n",
    "                if milk is middle\n",
    "                for (OldGold, Kools, Chesterfields, LuckyStrike, Parliaments) in c(orderings)\n",
    "                if Kools is yellow\n",
    "                if LuckyStrike is oj\n",
    "                if Japanese is Parliaments\n",
    "                for (dog, snails, fox, horse, ZEBRA) in c(orderings)\n",
    "                if Spaniard is dog\n",
    "                if OldGold is snails\n",
    "                if nextto(Chesterfields, fox)\n",
    "                if nextto(Kools, horse)\n",
    "                )\n",
    "\n",
    "def instrument_fn(fn, *args):\n",
    "    c.starts, c.items = 0, 0\n",
    "    result = fn(*args)\n",
    "    print(\"{0} got {1} with {2:5d} iters over {3:7d} items\".format(fn.__name__, result, c.starts, c.items))\n",
    "\n",
    "instrument_fn(zebra_puzzle)"
   ]
  },
  {
   "cell_type": "code",
   "execution_count": 23,
   "metadata": {
    "collapsed": true
   },
   "outputs": [],
   "source": [
    "# Figure out how long a function took to run \n",
    "\n",
    "import time \n",
    "\n",
    "def average(l):\n",
    "    return sum(l)/len(l)\n",
    "\n",
    "def timedcall(fn, *args):\n",
    "    t0 = time.time()\n",
    "    result = fn(*args)\n",
    "    t1 = time.time()\n",
    "    return t1 - t0, result  \n",
    "\n",
    "# Repeating the experiments multiple times \n",
    "\n",
    "def timedcalls(n, fn, *args):\n",
    "    if isinstance(n, int):\n",
    "        times = [timedcall(fn, *args)[0] for _ in range(n)]\n",
    "    else:\n",
    "        total_time = 0\n",
    "        times = []\n",
    "        while total_time < n:\n",
    "            time = timedcall(fn, *args)[0] \n",
    "            total_time += time\n",
    "            times.append(time)\n",
    "        \n",
    "    return min(times), average(times), max(times)\n",
    "\n"
   ]
  },
  {
   "cell_type": "code",
   "execution_count": 24,
   "metadata": {
    "collapsed": false
   },
   "outputs": [
    {
     "data": {
      "text/plain": [
       "(0.0004355907440185547, 0.000500604674384162, 0.007967233657836914)"
      ]
     },
     "execution_count": 24,
     "metadata": {},
     "output_type": "execute_result"
    }
   ],
   "source": [
    "timedcalls(1.0,zebra_puzzle)"
   ]
  },
  {
   "cell_type": "code",
   "execution_count": 25,
   "metadata": {
    "collapsed": false
   },
   "outputs": [],
   "source": [
    "# Developing Generator Functions \n",
    "\n",
    "# Similar to range, except that it leads to \n",
    "def ints(start, end=None):\n",
    "    i = start \n",
    "    while i <= end or end is None:\n",
    "        yield i\n",
    "        i +=1\n",
    "\n",
    "# Function that returns all the integers as a generator expression\n",
    "def all_ints():\n",
    "    i = 0\n",
    "    yield i\n",
    "    while True:\n",
    "        i +=1 \n",
    "        yield i \n",
    "        yield -i"
   ]
  },
  {
   "cell_type": "markdown",
   "metadata": {
    "collapsed": true
   },
   "source": [
    "### Crypto Arithmetic \n",
    "\n",
    "#### Solve the following problem:\n",
    "ODD + ODD = EVEN"
   ]
  },
  {
   "cell_type": "code",
   "execution_count": 26,
   "metadata": {
    "collapsed": false
   },
   "outputs": [
    {
     "name": "stdout",
     "output_type": "stream",
     "text": [
      "655 + 655 = 1313 \n",
      "855 + 855 = 1717 \n"
     ]
    }
   ],
   "source": [
    "# Brute Force method of solving the problem\n",
    "\n",
    "# Just add all the constraints, and you can cheat a little bit by knowing that you have e=1\n",
    "e = 1\n",
    "# 1. E has to be equal to 1 \n",
    "for d in [1,2,3,4,5,6,7,8,9,0]:\n",
    "    for n in [1,2,3,4,5,6,7,8,9,0]:\n",
    "        if (2 * d % 10 != n) or (d == n) or (n==1) or (d==1):\n",
    "            continue\n",
    "        if (2 * d + 1) % 10 != 1:\n",
    "            continue\n",
    "        for v in [1,2,3,4,5,6,7,8,9,0]:\n",
    "            for o in [1,2,3,4,5,6,7,8,9,0]:\n",
    "                if ((2 * o + 1) % 10 != v) or len(set([o,v,d,n]))!=4:\n",
    "                    continue\n",
    "                if 2 * o  < 10:\n",
    "                    continue\n",
    "                else:\n",
    "                    print(\"{}{}{} + {}{}{} = {}{}{}{} \".format(o,d,d,o,d,d,e,v,e,v))\n",
    "    "
   ]
  },
  {
   "cell_type": "code",
   "execution_count": 27,
   "metadata": {
    "collapsed": false
   },
   "outputs": [
    {
     "name": "stdout",
     "output_type": "stream",
     "text": [
      "True\n"
     ]
    }
   ],
   "source": [
    "# Example using translation tables and str.translate functions native in python 3 \n",
    "import string\n",
    "\n",
    "table = str.maketrans('ABC','123')\n",
    "f = 'A + B == C'\n",
    "print(eval(f.translate(table)))\n",
    "    "
   ]
  },
  {
   "cell_type": "code",
   "execution_count": 28,
   "metadata": {
    "collapsed": false
   },
   "outputs": [
    {
     "name": "stdout",
     "output_type": "stream",
     "text": [
      "655 + 655 == 1310\n"
     ]
    }
   ],
   "source": [
    "# Another way of doing it\n",
    "\n",
    "import re\n",
    "import itertools\n",
    "\n",
    "def valid(f):\n",
    "    \"\"\"Formula f is valid iff it has no numbers with leading zeros and evals true\"\"\"\n",
    "    try:\n",
    "        return not re.search(r'\\b0[0-9]',f) and eval(f) is True\n",
    "    except ArithmeticError:\n",
    "        return False\n",
    "\n",
    "def fill_in(formula):\n",
    "    \"\"\"Generate all possible fillings-in of letters in formula with digits\"\"\"\n",
    "    letters = ''.join(set(re.findall('[A-Z]',formula)))\n",
    "    for digits in itertools.permutations('1234567890', len(letters)):\n",
    "        table=str.maketrans(letters, \"\".join(digits))\n",
    "        yield formula.translate(table)\n",
    "    \n",
    "def solve(formula):\n",
    "    \"\"\"Given a formula like 'ODD + ODD == EVEN', fill in digits to solve it.\n",
    "    Input formula is a string; output is a digit-filled-in string or None.\"\"\"\n",
    "    for order in fill_in(formula):\n",
    "        if valid(order):\n",
    "            return order\n",
    "        \n",
    "print(solve(\"ODD + ODD == EVEN\"))"
   ]
  },
  {
   "cell_type": "code",
   "execution_count": 38,
   "metadata": {
    "collapsed": false
   },
   "outputs": [
    {
     "name": "stdout",
     "output_type": "stream",
     "text": [
      "\n",
      "(0.30478334426879883, '836+836==1672')\n",
      "0.3053\n",
      "\n",
      "(0.0024607181549072266, '3**2+4**2==5**2')\n",
      "0.3081\n",
      "\n",
      "(0.07282543182373047, None)\n",
      "0.3815\n",
      "\n",
      "(4.482269287109375e-05, '1/1==1')\n",
      "0.3821\n",
      "\n",
      "(0.0402369499206543, '3**2+4**2==5**2 and 2 > 1')\n",
      "0.4229\n",
      "\n",
      "(0.00012803077697753906, '45399218 is not 4756')\n",
      "0.4235\n",
      "\n",
      "(0.0655062198638916, '289==17**2')\n",
      "0.4893\n",
      "         325076 function calls in 0.481 seconds\n",
      "\n",
      "   Ordered by: standard name\n",
      "\n",
      "   ncalls  tottime  percall  cumtime  percall filename:lineno(function)\n",
      "        7    0.000    0.000    0.486    0.069 <ipython-input-23-06df5eff721d>:8(timedcall)\n",
      "    36812    0.034    0.000    0.076    0.000 <ipython-input-28-bbc66d2bba4b>:13(fill_in)\n",
      "        7    0.015    0.002    0.486    0.069 <ipython-input-28-bbc66d2bba4b>:20(solve)\n",
      "    36805    0.021    0.000    0.396    0.000 <ipython-input-28-bbc66d2bba4b>:6(valid)\n",
      "        1    0.000    0.000    0.488    0.488 <ipython-input-38-d3bc3516fd86>:10(test)\n",
      "        1    0.000    0.000    0.000    0.000 <string>:1(<module>)\n",
      "       37    0.001    0.000    0.002    0.000 iostream.py:180(schedule)\n",
      "       35    0.000    0.000    0.000    0.000 iostream.py:285(_is_master_process)\n",
      "       35    0.000    0.000    0.000    0.000 iostream.py:298(_schedule_flush)\n",
      "       35    0.000    0.000    0.002    0.000 iostream.py:361(write)\n",
      "       37    0.000    0.000    0.000    0.000 iostream.py:89(_event_pipe)\n",
      "    36805    0.017    0.000    0.065    0.000 re.py:170(search)\n",
      "        7    0.000    0.000    0.000    0.000 re.py:205(findall)\n",
      "    36812    0.016    0.000    0.016    0.000 re.py:278(_compile)\n",
      "       37    0.000    0.000    0.000    0.000 threading.py:1060(_wait_for_tstate_lock)\n",
      "       37    0.000    0.000    0.000    0.000 threading.py:1102(is_alive)\n",
      "       37    0.000    0.000    0.000    0.000 threading.py:504(is_set)\n",
      "    30085    0.302    0.000    0.310    0.000 {built-in method builtins.eval}\n",
      "        1    0.000    0.000    0.488    0.488 {built-in method builtins.exec}\n",
      "       35    0.000    0.000    0.000    0.000 {built-in method builtins.isinstance}\n",
      "        7    0.000    0.000    0.000    0.000 {built-in method builtins.len}\n",
      "       21    0.000    0.000    0.002    0.000 {built-in method builtins.print}\n",
      "    36805    0.018    0.000    0.018    0.000 {built-in method maketrans}\n",
      "       35    0.000    0.000    0.000    0.000 {built-in method posix.getpid}\n",
      "       37    0.001    0.000    0.001    0.000 {built-in method posix.urandom}\n",
      "        8    0.000    0.000    0.000    0.000 {built-in method time.clock}\n",
      "       14    0.000    0.000    0.000    0.000 {built-in method time.time}\n",
      "       37    0.000    0.000    0.000    0.000 {method 'acquire' of '_thread.lock' objects}\n",
      "        1    0.000    0.000    0.000    0.000 {method 'disable' of '_lsprof.Profiler' objects}\n",
      "        7    0.000    0.000    0.000    0.000 {method 'findall' of '_sre.SRE_Pattern' objects}\n",
      "       14    0.000    0.000    0.000    0.000 {method 'format' of 'str' objects}\n",
      "    36812    0.006    0.000    0.006    0.000 {method 'join' of 'str' objects}\n",
      "    36805    0.032    0.000    0.032    0.000 {method 'search' of '_sre.SRE_Pattern' objects}\n",
      "    36805    0.018    0.000    0.018    0.000 {method 'translate' of 'str' objects}\n",
      "\n",
      "\n"
     ]
    }
   ],
   "source": [
    "### Testing the program\n",
    "examples = \"\"\"TWO+TWO==FOUR\n",
    "A**2+B**2==C**2\n",
    "A**2+BE*2==BY**2\n",
    "X/X==X\n",
    "A**N+B**N==C**N and N > 1\n",
    "GLITTERS is not GOLD\n",
    "YOU==ME**2\"\"\".splitlines()\n",
    "\n",
    "def test():\n",
    "    t0 = time.clock()\n",
    "    for example in examples:\n",
    "        print()\n",
    "        print(\"{}\".format(timedcall(solve, example)))\n",
    "        print(\"{0:6.4f}\".format(time.clock() - t0))\n",
    "\n",
    "        \n",
    "import cProfile\n",
    "cProfile.run('test()')"
   ]
  },
  {
   "cell_type": "code",
   "execution_count": 45,
   "metadata": {
    "collapsed": false
   },
   "outputs": [
    {
     "name": "stdout",
     "output_type": "stream",
     "text": [
      "[1, 4, 9, 16, 25]\n",
      "True\n"
     ]
    }
   ],
   "source": [
    "### Lambda Expressions \n",
    "\n",
    "# Example 1 \n",
    "f = lambda x: x**2\n",
    "\n",
    "temp_list = [1, 2, 3, 4, 5]\n",
    "\n",
    "new_list = [f(tl) for tl in temp_list]\n",
    "\n",
    "print(new_list)\n",
    "\n",
    "# Example 2 \n",
    "f2 = lambda Y, M, E, U, O:(1*U + 10*O + 100*Y) == (E + 10*M)**2\n",
    "\n",
    "print(f2(2, 1, 7, 9, 8))\n"
   ]
  },
  {
   "cell_type": "code",
   "execution_count": 44,
   "metadata": {
    "collapsed": false
   },
   "outputs": [
    {
     "name": "stdout",
     "output_type": "stream",
     "text": [
      "(1*U+10*O+100*Y)\n"
     ]
    }
   ],
   "source": [
    "def compile_word(word):\n",
    "    if word.isupper():\n",
    "        eval_string = \"\"\n",
    "        # Length of the word\n",
    "        word_len = len(word)\n",
    "        # Reverse the word\n",
    "        reverse_word = word[: : -1]\n",
    "        terms = [\"{}*{}\".format(10**i,d) for (i,d) in enumerate(reverse_word)]\n",
    "        return \"(\" + \"+\".join(terms) + \")\"\n",
    "    else:\n",
    "        return word\n",
    "print(compile_word(\"YOU\"))\n",
    "        "
   ]
  },
  {
   "cell_type": "code",
   "execution_count": null,
   "metadata": {
    "collapsed": true
   },
   "outputs": [],
   "source": []
  }
 ],
 "metadata": {
  "anaconda-cloud": {},
  "kernelspec": {
   "display_name": "Python [conda env:anaconda3]",
   "language": "python",
   "name": "conda-env-anaconda3-py"
  },
  "language_info": {
   "codemirror_mode": {
    "name": "ipython",
    "version": 3
   },
   "file_extension": ".py",
   "mimetype": "text/x-python",
   "name": "python",
   "nbconvert_exporter": "python",
   "pygments_lexer": "ipython3",
   "version": "3.5.4"
  }
 },
 "nbformat": 4,
 "nbformat_minor": 1
}
